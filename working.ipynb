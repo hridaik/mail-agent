{
 "cells": [
  {
   "cell_type": "code",
   "execution_count": 1,
   "metadata": {},
   "outputs": [
    {
     "data": {
      "text/plain": [
       "True"
      ]
     },
     "execution_count": 1,
     "metadata": {},
     "output_type": "execute_result"
    }
   ],
   "source": [
    "from phi.agent import Agent, RunResponse\n",
    "from phi.model.groq import Groq\n",
    "import dotenv\n",
    "import pandas as pd\n",
    "import requests\n",
    "from bs4 import BeautifulSoup\n",
    "from web_search import brave_search, ddg_search\n",
    "import os\n",
    "\n",
    "# Init\n",
    "dotenv.load_dotenv()\n"
   ]
  },
  {
   "cell_type": "code",
   "execution_count": 2,
   "metadata": {},
   "outputs": [
    {
     "name": "stdout",
     "output_type": "stream",
     "text": [
      "200\n"
     ]
    },
    {
     "data": {
      "text/plain": [
       "'Title: \\u202aIbrahim Cissé\\u202c - \\u202aGoogle Scholar\\u202c\\nURL: https://scholar.google.fr/citations?user=SsuqMfwAAAAJ&hl=en\\nDescription: \\u202aMax Planck Institute, Freiburg\\u202c - \\u202a\\u202aCited by 8,152\\u202c\\u202c - \\u202aPhysics\\u202c - \\u202aBiophysics\\u202c\\n\\nTitle: Ibrahim Cissé (academic) - Wikipedia\\nURL: https://en.wikipedia.org/wiki/Ibrahim_Ciss%C3%A9_(academic)\\nDescription: Ibrahim I. Cissé is a Nigerien-American biophysicist. He is currently director of the Max Planck Institute of Immunobiology and Epigenetics. Previously, Cissé was at the California Institute of Technology as Professor of Physics and the Massachusetts Institute of Technology as Professor of ...\\n\\nTitle: The Cissé Laboratory @ MIT\\nURL: http://www.icisse.org/\\nDescription: Endowed Physics Professorship: Ibrahim has been named to hold the Class of 1922 Career Development Chair at MIT.\\n\\nTitle: Ibby (@IbrahimCisse_) / Twitter\\nURL: https://twitter.com/ibrahimcisse_\\nDescription: The latest tweets from Ibby (@IbrahimCisse_)\\n\\nTitle: Fueling protein–DNA interactions inside porous nanocontainers | PNAS\\nURL: https://www.pnas.org/content/104/31/12646/tab-figures-data\\nDescription: Vesicle encapsulation offers a biologically relevant environment for many soluble proteins and nucleic acids and an optimal immobilization medium for single-molecule fluorescence assays. Furthermore, the confinement of biomolecules within small volumes opens up new avenues to unique experimental ...\\n\\nTitle: Publication - The Cissé Laboratory @ MIT\\nURL: http://www.icisse.org/publication.html\\nDescription: We invite you to check out Google Scholar , or Pubmed for a list of publication. PDFs are available by request (Last update: 07/2018)\\n\\nTitle: A dual role for H2A.Z.1 in modulating the dynamics of RNA polymerase II initiation and elongation | Nature Structural & Molecular Biology\\nURL: https://www.nature.com/articles/s41594-021-00589-3?proof=t).&error=cookies_not_supported&code=479fd6a9-93bb-4dfa-b3ed-e7c55a0a9bac\\nDescription: RNA polymerase II (RNAPII) pausing immediately downstream of the transcription start site is a critical rate-limiting step for the expression of most metazoan genes. During pause release, RNAPII encounters a highly conserved +1 H2A.Z nucleosome, yet how this histone variant contributes to ...\\n\\nTitle: RNA Polymerase II cluster dynamics predict mRNA output in living cells | eLife\\nURL: https://elifesciences.org/articles/13617\\nDescription: Quantitative super resolution imaging, in live mammalian cells, reveals a direct relationship between protein clustering dynamics and the number of mRNA transcribed at an endogenous gene locus.\\n\\nTitle: Mediator and RNA polymerase II clusters associate in transcription-dependent condensates | Science\\nURL: https://science.sciencemag.org/content/361/6400/412/tab-article-info\\nDescription: Find this author on Google Scholar · Find this author on PubMed · Search for this author on this site · Ibrahim I. Cisse · 1Department of Physics, MIT, Cambridge, MA 02139, USA. Find this author on Google Scholar · Find this author on PubMed · Search for this author on this site ·\\n\\nTitle: Federal RePORTER - Project Details\\nURL: https://federalreporter.nih.gov/Projects/Details/?projectId=636831&itemNum=70234&totalItems=78670&searchId=b850241613a74a58962c0bd1a1edd5d4&searchMode=Advanced&resultType=&page=703&pageSize=100&sortField=ProjectNum&sortOrder=desc&filters=$OrgState;MA$OrgCountry;US&navigation=True\\nDescription: Contact PI / Project Leader Information: Name: CISSE, IBRAHIM\\n'"
      ]
     },
     "execution_count": 2,
     "metadata": {},
     "output_type": "execute_result"
    }
   ],
   "source": [
    "agent = Agent(\n",
    "    model=Groq(id=\"llama-3.3-70b-versatile\"),\n",
    "    add_chat_history_to_messages=True,\n",
    "    num_history_responses=5,\n",
    "    tools=[],\n",
    "    markdown=True\n",
    ")\n",
    "\n",
    "search_engine = 'brave' # brave or ddg\n",
    "pi_name = \"Ibrahim Cisse\"\n",
    "affiliation = ''\n",
    "\n",
    "# Get Google Scholar Link\n",
    "query = pi_name + \" \" + affiliation + \" \" + \"Google Scholar\"\n",
    "\n",
    "if search_engine == 'brave':\n",
    "    search_result = brave_search(query=query)\n",
    "else:\n",
    "    search_result = ddg_search(query=query)\n",
    "\n",
    "search_result"
   ]
  },
  {
   "cell_type": "code",
   "execution_count": 3,
   "metadata": {},
   "outputs": [
    {
     "data": {
      "text/plain": [
       "429"
      ]
     },
     "execution_count": 3,
     "metadata": {},
     "output_type": "execute_result"
    }
   ],
   "source": [
    "gs_task = f\"Provided below are top web search results for the Google Scholar webpage of {pi_name}, {affiliation}. Decide which of the results looks like it is the official Google Scholar page and provide ONLY the link to the Google Scholar page, and nothing else in your response. If none of the results look like the correct person's Google Scholar webpage, respond with only '0'\"\n",
    "gs_prompt = f\"{gs_task} \\n<WEB RESULTS START>\\n{search_result}\\n<WEB RESULTS END>\"\n",
    "\n",
    "# agent.print_response(prompt, stream=True)\n",
    "gs_run = agent.run(gs_prompt)\n",
    "# pprint([m.model_dump(include={\"role\", \"content\"}) for m in agent.memory.messages])\n",
    "# print(gs_run.content)\n",
    "if gs_run.content != '0':\n",
    "    scholar_url = gs_run.content + \"&view_op=list_works&sortby=pubdate\"\n",
    "\n",
    "# Read publication list on Google Scholar\n",
    "scholar_page = requests.get(scholar_url)\n",
    "\n",
    "scholar_page.status_code"
   ]
  },
  {
   "cell_type": "code",
   "execution_count": 8,
   "metadata": {},
   "outputs": [
    {
     "data": {
      "text/plain": [
       "200"
      ]
     },
     "execution_count": 8,
     "metadata": {},
     "output_type": "execute_result"
    }
   ],
   "source": [
    "scholar_page = requests.get(scholar_url, headers={'User-agent': 'mail-agentv0.1'})\n",
    "\n",
    "scholar_page.status_code"
   ]
  },
  {
   "cell_type": "code",
   "execution_count": 9,
   "metadata": {},
   "outputs": [
    {
     "data": {
      "text/plain": [
       "'<table id=\"gsc_a_t\">\\n <thead>\\n  <tr aria-hidden=\"true\" id=\"gsc_a_tr0\">\\n   <th class=\"gsc_a_t\">\\n   </th>\\n   <th class=\"gsc_a_c\">\\n   </th>\\n   <th class=\"gsc_a_y\">\\n   </th>\\n  </tr>\\n  <tr id=\"gsc_a_trh\">\\n   <th class=\"gsc_a_t\" scope=\"col\">\\n    <span id=\"gsc_a_ta\">\\n     <a class=\"gsc_a_a\" href=\"/citations?hl=en&amp;oe=ASCII&amp;user=SsuqMfwAAAAJ&amp;view_op=list_works&amp;sortby=title\">\\n      Title\\n     </a>\\n    </span>\\n    <div class=\"gs_md_r gs_md_rmb gs_md_rmbl\" id=\"gsc_dd_sort-r\">\\n     <button aria-controls=\"gsc_dd_sort-d\" aria-haspopup=\"true\" class=\"gs_in_se gs_btn_mnu gs_btn_flat gs_btn_lrge gs_btn_half gs_btn_lsu gs_press gs_md_tb\" id=\"gsc_dd_sort-b\" ontouchstart=\"gs_evt_dsp(event)\" type=\"button\">\\n      <span class=\"gs_wr\">\\n       <span class=\"gs_lbl\">\\n        Sort\\n       </span>\\n       <span class=\"gs_icm\">\\n       </span>\\n      </span>\\n     </button>\\n     <div class=\"gs_md_d gs_md_ds gs_md_ulr\" id=\"gsc_dd_sort-d\" role=\"menu\" tabindex=\"-1\">\\n      <div class=\"gs_oph gsc_dd_sec gsc_dd_sep\" id=\"gsc_dd_sort-s\">\\n       <a class=\"gs_md_li\" href=\"/citations?hl=en&amp;oe=ASCII&amp;user=SsuqMfwAAAAJ&amp;view_op=list_works\" role=\"menuitem\" tabindex=\"-1\">\\n        Sort by citations\\n       </a>\\n       <a class=\"gs_md_li gsc_dd_sort-sel\" href=\"/citations?hl=en&amp;oe=ASCII&amp;user=SsuqMfwAAAAJ&amp;view_op=list_works&amp;sortby=pubdate\" role=\"menuitem\" tabindex=\"-1\">\\n        Sort by year\\n       </a>\\n       <a class=\"gs_md_li\" href=\"/citations?hl=en&amp;oe=ASCII&amp;user=SsuqMfwAAAAJ&amp;view_op=list_works&amp;sortby=title\" role=\"menuitem\" tabindex=\"-1\">\\n        Sort by title\\n       </a>\\n      </div>\\n     </div>\\n    </div>\\n   </th>\\n   <th class=\"gsc_a_c\" dir=\"rtl\" scope=\"col\">\\n    <span id=\"gsc_a_ca\">\\n     <div class=\"gs_nph\">\\n      <a class=\"gsc_a_a\" href=\"/citations?hl=en&amp;oe=ASCII&amp;user=SsuqMfwAAAAJ&amp;view_op=list_works\">\\n       Cited by\\n      </a>\\n     </div>\\n     <div class=\"gs_oph\">\\n      Cited by\\n     </div>\\n    </span>\\n   </th>\\n   <th class=\"gsc_a_y\" scope=\"col\">\\n    <span class=\"gsc_a_h\" id=\"gsc_a_ha\">\\n     Year\\n    </span>\\n   </th>\\n  </tr>\\n </thead>\\n <tbody id=\"gsc_a_b\">\\n  <tr class=\"gsc_a_tr\">\\n   <td class=\"gsc_a_t\">\\n    <a class=\"gsc_a_at\" href=\"/citations?view_op=view_citation&amp;hl=en&amp;oe=ASCII&amp;user=SsuqMfwAAAAJ&amp;sortby=pubdate&amp;citation_for_view=SsuqMfwAAAAJ:Wp0gIr-vW9MC\">\\n     Light-induced targeting enables proteomics on endogenous condensates\\n    </a>\\n    <div class=\"gs_gray\">\\n     C Lee, A Quintana, I Suppanz, A Gomez-Auli, G Mittler, II Cissé\\n    </div>\\n    <div class=\"gs_gray\">\\n     Cell 187 (25), 7079-7090. e17\\n     <span class=\"gs_oph\">\\n      , 2024\\n     </span>\\n    </div>\\n   </td>\\n   <td class=\"gsc_a_c\">\\n    <a class=\"gsc_a_ac gs_ibl\" href=\"\">\\n    </a>\\n   </td>\\n   <td class=\"gsc_a_y\">\\n    <span class=\"gsc_a_h gsc_a_hc gs_ibl\">\\n     2024\\n    </span>\\n   </td>\\n  </tr>\\n  <tr class=\"gsc_a_tr\">\\n   <td class=\"gsc_a_t\">\\n    <a class=\"gsc_a_at\" href=\"/citations?view_op=view_citation&amp;hl=en&amp;oe=ASCII&amp;user=SsuqMfwAAAAJ&amp;sortby=pubdate&amp;citation_for_view=SsuqMfwAAAAJ:aqlVkmm33-oC\">\\n     Direct observation of a condensate effect on super-enhancer controlled gene bursting\\n    </a>\\n    <div class=\"gs_gray\">\\n     M Du, SH Stitzinger, JH Spille, WK Cho, C Lee, M Hijaz, A Quintana, ...\\n    </div>\\n    <div class=\"gs_gray\">\\n     Cell 187 (2), 331-344. e17\\n     <span class=\"gs_oph\">\\n      , 2024\\n     </span>\\n    </div>\\n   </td>\\n   <td class=\"gsc_a_c\">\\n    <a class=\"gsc_a_ac gs_ibl\" href=\"https://scholar.google.fr/scholar?oi=bibs&amp;hl=en&amp;oe=ASCII&amp;cites=10716386288911561589\">\\n     70\\n    </a>\\n   </td>\\n   <td class=\"gsc_a_y\">\\n    <span class=\"gsc_a_h gsc_a_hc gs_ibl\">\\n     2024\\n    </span>\\n   </td>\\n  </tr>\\n  <tr class=\"gsc_a_tr\">\\n   <td class=\"gsc_a_t\">\\n    <a class=\"gsc_a_at\" href=\"/citations?view_op=view_citation&amp;hl=en&amp;oe=ASCII&amp;user=SsuqMfwAAAAJ&amp;sortby=pubdate&amp;citation_for_view=SsuqMfwAAAAJ:mVmsd5A6BfQC\">\\n     Regularly spaced tyrosines in EBF1 mediate BRG1 recruitment and formation of nuclear subdiffractive clusters\\n    </a>\\n    <div class=\"gs_gray\">\\n     N Zolotarev, Y Wang, M Du, M Bayer, A Grosschedl, I Cisse, R Grosschedl\\n    </div>\\n    <div class=\"gs_gray\">\\n     Genes &amp; Development 38 (1-2), 4-10\\n     <span class=\"gs_oph\">\\n      , 2024\\n     </span>\\n    </div>\\n   </td>\\n   <td class=\"gsc_a_c\">\\n    <a class=\"gsc_a_ac gs_ibl\" href=\"\">\\n    </a>\\n   </td>\\n   <td class=\"gsc_a_y\">\\n    <span class=\"gsc_a_h gsc_a_hc gs_ibl\">\\n     2024\\n    </span>\\n   </td>\\n  </tr>\\n  <tr class=\"gsc_a_tr\">\\n   <td class=\"gsc_a_t\">\\n    <a class=\"gsc_a_at\" href=\"/citations?view_op=view_citation&amp;hl=en&amp;oe=ASCII&amp;user=SsuqMfwAAAAJ&amp;sortby=pubdate&amp;citation_for_view=SsuqMfwAAAAJ:4DMP91E08xMC\">\\n     Hijacking of transcriptional condensates by endogenous retroviruses\\n    </a>\\n    <div class=\"gs_gray\">\\n     V Asimi, A Sampath Kumar, H Niskanen, C Riemenschneider, S Hetzel, ...\\n    </div>\\n    <div class=\"gs_gray\">\\n     Nature Genetics 54 (8), 1238-1247\\n     <span class=\"gs_oph\">\\n      , 2022\\n     </span>\\n    </div>\\n   </td>\\n   <td class=\"gsc_a_c\">\\n    <a class=\"gsc_a_ac gs_ibl\" href=\"https://scholar.google.fr/scholar?oi=bibs&amp;hl=en&amp;oe=ASCII&amp;cites=14864433126935523126\">\\n     54\\n    </a>\\n   </td>\\n   <td class=\"gsc_a_y\">\\n    <span class=\"gsc_a_h gsc_a_hc gs_ibl\">\\n     2022\\n    </span>\\n   </td>\\n  </tr>\\n  <tr class=\"gsc_a_tr\">\\n   <td class=\"gsc_a_t\">\\n    <a class=\"gsc_a_at\" href=\"/citations?view_op=view_citation&amp;hl=en&amp;oe=ASCII&amp;user=SsuqMfwAAAAJ&amp;sortby=pubdate&amp;citation_for_view=SsuqMfwAAAAJ:qxL8FJ1GzNcC\">\\n     RNA-mediated feedback control of transcriptional condensates\\n    </a>\\n    <div class=\"gs_gray\">\\n     JE Henninger, O Oksuz, K Shrinivas, I Sagi, G LeRoy, MM Zheng, ...\\n    </div>\\n    <div class=\"gs_gray\">\\n     Cell 184 (1), 207-225. e24\\n     <span class=\"gs_oph\">\\n      , 2021\\n     </span>\\n    </div>\\n   </td>\\n   <td class=\"gsc_a_c\">\\n    <a class=\"gsc_a_ac gs_ibl\" href=\"https://scholar.google.fr/scholar?oi=bibs&amp;hl=en&amp;oe=ASCII&amp;cites=378223908349012958\">\\n     452\\n    </a>\\n   </td>\\n   <td class=\"gsc_a_y\">\\n    <span class=\"gsc_a_h gsc_a_hc gs_ibl\">\\n     2021\\n    </span>\\n   </td>\\n  </tr>\\n  <tr class=\"gsc_a_tr\">\\n   <td class=\"gsc_a_t\">\\n    <a class=\"gsc_a_at\" href=\"/citations?view_op=view_citation&amp;hl=en&amp;oe=ASCII&amp;user=SsuqMfwAAAAJ&amp;sortby=pubdate&amp;citation_for_view=SsuqMfwAAAAJ:M3ejUd6NZC8C\">\\n     Mediator condensates localize signaling factors to key cell identity genes\\n    </a>\\n    <div class=\"gs_gray\">\\n     AV Zamudio, A Dall’Agnese, JE Henninger, JC Manteiga, LK Afeyan, ...\\n    </div>\\n    <div class=\"gs_gray\">\\n     Molecular cell 76 (5), 753-766. e6\\n     <span class=\"gs_oph\">\\n      , 2019\\n     </span>\\n    </div>\\n   </td>\\n   <td class=\"gsc_a_c\">\\n    <a class=\"gsc_a_ac gs_ibl\" href=\"https://scholar.google.fr/scholar?oi=bibs&amp;hl=en&amp;oe=ASCII&amp;cites=18399151613206787314\">\\n     243\\n    </a>\\n   </td>\\n   <td class=\"gsc_a_y\">\\n    <span class=\"gsc_a_h gsc_a_hc gs_ibl\">\\n     2019\\n    </span>\\n   </td>\\n  </tr>\\n  <tr class=\"gsc_a_tr\">\\n   <td class=\"gsc_a_t\">\\n    <a class=\"gsc_a_at\" href=\"/citations?view_op=view_citation&amp;hl=en&amp;oe=ASCII&amp;user=SsuqMfwAAAAJ&amp;sortby=pubdate&amp;citation_for_view=SsuqMfwAAAAJ:4TOpqqG69KYC\">\\n     Pol II phosphorylation regulates a switch between transcriptional and splicing condensates\\n    </a>\\n    <div class=\"gs_gray\">\\n     YE Guo, JC Manteiga, JE Henninger, BR Sabari, A Dall’Agnese, ...\\n    </div>\\n    <div class=\"gs_gray\">\\n     Nature 572 (7770), 543-548\\n     <span class=\"gs_oph\">\\n      , 2019\\n     </span>\\n    </div>\\n   </td>\\n   <td class=\"gsc_a_c\">\\n    <a class=\"gsc_a_ac gs_ibl\" href=\"https://scholar.google.fr/scholar?oi=bibs&amp;hl=en&amp;oe=ASCII&amp;cites=15239445015020419507\">\\n     588\\n    </a>\\n   </td>\\n   <td class=\"gsc_a_y\">\\n    <span class=\"gsc_a_h gsc_a_hc gs_ibl\">\\n     2019\\n    </span>\\n   </td>\\n  </tr>\\n  <tr class=\"gsc_a_tr\">\\n   <td class=\"gsc_a_t\">\\n    <a class=\"gsc_a_at\" href=\"/citations?view_op=view_citation&amp;hl=en&amp;oe=ASCII&amp;user=SsuqMfwAAAAJ&amp;sortby=pubdate&amp;citation_for_view=SsuqMfwAAAAJ:ULOm3_A8WrAC\">\\n     A first order phase transition mechanism underlies protein aggregation in mammalian cells\\n    </a>\\n    <div class=\"gs_gray\">\\n     A Narayanan, A Meriin, JO Andrews, JH Spille, MY Sherman, II Cisse\\n    </div>\\n    <div class=\"gs_gray\">\\n     Elife 8, e39695\\n     <span class=\"gs_oph\">\\n      , 2019\\n     </span>\\n    </div>\\n   </td>\\n   <td class=\"gsc_a_c\">\\n    <a class=\"gsc_a_ac gs_ibl\" href=\"https://scholar.google.fr/scholar?oi=bibs&amp;hl=en&amp;oe=ASCII&amp;cites=2488335784048504610\">\\n     97\\n    </a>\\n   </td>\\n   <td class=\"gsc_a_y\">\\n    <span class=\"gsc_a_h gsc_a_hc gs_ibl\">\\n     2019\\n    </span>\\n   </td>\\n  </tr>\\n  <tr class=\"gsc_a_tr\">\\n   <td class=\"gsc_a_t\">\\n    <a class=\"gsc_a_at\" href=\"/citations?view_op=view_citation&amp;hl=en&amp;oe=ASCII&amp;user=SsuqMfwAAAAJ&amp;sortby=pubdate&amp;citation_for_view=SsuqMfwAAAAJ:_kc_bZDykSQC\">\\n     A CRISPR/Cas9 platform for MS2-labelling of single mRNA in live stem cells\\n    </a>\\n    <div class=\"gs_gray\">\\n     JH Spille, M Hecht, V Grube, W Cho, C Lee, II Cissé\\n    </div>\\n    <div class=\"gs_gray\">\\n     Methods 153, 35-45\\n     <span class=\"gs_oph\">\\n      , 2019\\n     </span>\\n    </div>\\n   </td>\\n   <td class=\"gsc_a_c\">\\n    <a class=\"gsc_a_ac gs_ibl\" href=\"https://scholar.google.fr/scholar?oi=bibs&amp;hl=en&amp;oe=ASCII&amp;cites=1058781262184971151\">\\n     27\\n    </a>\\n   </td>\\n   <td class=\"gsc_a_y\">\\n    <span class=\"gsc_a_h gsc_a_hc gs_ibl\">\\n     2019\\n    </span>\\n   </td>\\n  </tr>\\n  <tr class=\"gsc_a_tr\">\\n   <td class=\"gsc_a_t\">\\n    <a class=\"gsc_a_at\" href=\"/citations?view_op=view_citation&amp;hl=en&amp;oe=ASCII&amp;user=SsuqMfwAAAAJ&amp;sortby=pubdate&amp;citation_for_view=SsuqMfwAAAAJ:Zph67rFs4hoC\">\\n     Coactivator condensation at super-enhancers links phase separation and gene control\\n    </a>\\n    <div class=\"gs_gray\">\\n     BR Sabari, A Dall’Agnese, A Boija, IA Klein, EL Coffey, K Shrinivas, ...\\n    </div>\\n    <div class=\"gs_gray\">\\n     Science 361 (6400), eaar3958\\n     <span class=\"gs_oph\">\\n      , 2018\\n     </span>\\n    </div>\\n   </td>\\n   <td class=\"gsc_a_c\">\\n    <a class=\"gsc_a_ac gs_ibl\" href=\"https://scholar.google.fr/scholar?oi=bibs&amp;hl=en&amp;oe=ASCII&amp;cites=10801341058919545944\">\\n     2173\\n    </a>\\n   </td>\\n   <td class=\"gsc_a_y\">\\n    <span class=\"gsc_a_h gsc_a_hc gs_ibl\">\\n     2018\\n    </span>\\n   </td>\\n  </tr>\\n  <tr class=\"gsc_a_tr\">\\n   <td class=\"gsc_a_t\">\\n    <a class=\"gsc_a_at\" href=\"/citations?view_op=view_citation&amp;hl=en&amp;oe=ASCII&amp;user=SsuqMfwAAAAJ&amp;sortby=pubdate&amp;citation_for_view=SsuqMfwAAAAJ:KlAtU1dfN6UC\">\\n     Mediator and RNA polymerase II clusters associate in transcription-dependent condensates\\n    </a>\\n    <div class=\"gs_gray\">\\n     WK Cho, JH Spille, M Hecht, C Lee, C Li, V Grube, II Cisse\\n    </div>\\n    <div class=\"gs_gray\">\\n     Science 361 (6400), 412-415\\n     <span class=\"gs_oph\">\\n      , 2018\\n     </span>\\n    </div>\\n   </td>\\n   <td class=\"gsc_a_c\">\\n    <a class=\"gsc_a_ac gs_ibl\" href=\"https://scholar.google.fr/scholar?oi=bibs&amp;hl=en&amp;oe=ASCII&amp;cites=3853523371890979504\">\\n     1255\\n    </a>\\n   </td>\\n   <td class=\"gsc_a_y\">\\n    <span class=\"gsc_a_h gsc_a_hc gs_ibl\">\\n     2018\\n    </span>\\n   </td>\\n  </tr>\\n  <tr class=\"gsc_a_tr\">\\n   <td class=\"gsc_a_t\">\\n    <a class=\"gsc_a_at\" href=\"/citations?view_op=view_citation&amp;hl=en&amp;oe=ASCII&amp;user=SsuqMfwAAAAJ&amp;sortby=pubdate&amp;citation_for_view=SsuqMfwAAAAJ:YOwf2qJgpHMC\">\\n     Hsp70–Bag3 complex is a hub for proteotoxicity-induced signaling that controls protein aggregation\\n    </a>\\n    <div class=\"gs_gray\">\\n     AB Meriin, A Narayanan, LE Meng, I Alexandrov, X Varelas, II Cissé, ...\\n    </div>\\n    <div class=\"gs_gray\">\\n     Proceedings of the National Academy of Sciences 115 (30), E7043-E7052\\n     <span class=\"gs_oph\">\\n      , 2018\\n     </span>\\n    </div>\\n   </td>\\n   <td class=\"gsc_a_c\">\\n    <a class=\"gsc_a_ac gs_ibl\" href=\"https://scholar.google.fr/scholar?oi=bibs&amp;hl=en&amp;oe=ASCII&amp;cites=15558798174908654340\">\\n     81\\n    </a>\\n   </td>\\n   <td class=\"gsc_a_y\">\\n    <span class=\"gsc_a_h gsc_a_hc gs_ibl\">\\n     2018\\n    </span>\\n   </td>\\n  </tr>\\n  <tr class=\"gsc_a_tr\">\\n   <td class=\"gsc_a_t\">\\n    <a class=\"gsc_a_at\" href=\"/citations?view_op=view_citation&amp;hl=en&amp;oe=ASCII&amp;user=SsuqMfwAAAAJ&amp;sortby=pubdate&amp;citation_for_view=SsuqMfwAAAAJ:kNdYIx-mwKoC\">\\n     qSR: a quantitative super-resolution analysis tool reveals the cell-cycle dependent organization of RNA Polymerase I in live human cells\\n    </a>\\n    <div class=\"gs_gray\">\\n     JO Andrews, W Conway, WK Cho, A Narayanan, JH Spille, N Jayanth, ...\\n    </div>\\n    <div class=\"gs_gray\">\\n     Scientific reports 8 (1), 7424\\n     <span class=\"gs_oph\">\\n      , 2018\\n     </span>\\n    </div>\\n   </td>\\n   <td class=\"gsc_a_c\">\\n    <a class=\"gsc_a_ac gs_ibl\" href=\"https://scholar.google.fr/scholar?oi=bibs&amp;hl=en&amp;oe=ASCII&amp;cites=13079883148135513709\">\\n     40\\n    </a>\\n   </td>\\n   <td class=\"gsc_a_y\">\\n    <span class=\"gsc_a_h gsc_a_hc gs_ibl\">\\n     2018\\n    </span>\\n   </td>\\n  </tr>\\n  <tr class=\"gsc_a_tr\">\\n   <td class=\"gsc_a_t\">\\n    <a class=\"gsc_a_at\" href=\"/citations?view_op=view_citation&amp;hl=en&amp;oe=ASCII&amp;user=SsuqMfwAAAAJ&amp;sortby=pubdate&amp;citation_for_view=SsuqMfwAAAAJ:LkGwnXOMwfcC\">\\n     A first order phase transition underlies the formation of sub-diffractive protein aggregates in mammalian cells\\n    </a>\\n    <div class=\"gs_gray\">\\n     A Narayanan, AB Meriin, MY Sherman, II Cissé\\n    </div>\\n    <div class=\"gs_gray\">\\n     BioRxiv, 148395\\n     <span class=\"gs_oph\">\\n      , 2017\\n     </span>\\n    </div>\\n   </td>\\n   <td class=\"gsc_a_c\">\\n    <a class=\"gsc_a_ac gs_ibl\" href=\"https://scholar.google.fr/scholar?oi=bibs&amp;hl=en&amp;oe=ASCII&amp;cites=1885347004017051459\">\\n     10\\n    </a>\\n   </td>\\n   <td class=\"gsc_a_y\">\\n    <span class=\"gsc_a_h gsc_a_hc gs_ibl\">\\n     2017\\n    </span>\\n   </td>\\n  </tr>\\n  <tr class=\"gsc_a_tr\">\\n   <td class=\"gsc_a_t\">\\n    <a class=\"gsc_a_at\" href=\"/citations?view_op=view_citation&amp;hl=en&amp;oe=ASCII&amp;user=SsuqMfwAAAAJ&amp;sortby=pubdate&amp;citation_for_view=SsuqMfwAAAAJ:roLk4NBRz8UC\">\\n     qSR: A software for quantitative analysis of single molecule and super-resolution data\\n    </a>\\n    <div class=\"gs_gray\">\\n     JO Andrews, A Narayanan, JH Spille, WK Cho, JD Thaler, II Cissé\\n    </div>\\n    <div class=\"gs_gray\">\\n     bioRxiv, 146241\\n     <span class=\"gs_oph\">\\n      , 2017\\n     </span>\\n    </div>\\n   </td>\\n   <td class=\"gsc_a_c\">\\n    <a class=\"gsc_a_ac gs_ibl\" href=\"https://scholar.google.fr/scholar?oi=bibs&amp;hl=en&amp;oe=ASCII&amp;cites=3533027024198047000\">\\n     4\\n    </a>\\n   </td>\\n   <td class=\"gsc_a_y\">\\n    <span class=\"gsc_a_h gsc_a_hc gs_ibl\">\\n     2017\\n    </span>\\n   </td>\\n  </tr>\\n  <tr class=\"gsc_a_tr\">\\n   <td class=\"gsc_a_t\">\\n    <a class=\"gsc_a_at\" href=\"/citations?view_op=view_citation&amp;hl=en&amp;oe=ASCII&amp;user=SsuqMfwAAAAJ&amp;sortby=pubdate&amp;citation_for_view=SsuqMfwAAAAJ:_FxGoFyzp5QC\">\\n     Global analysis of double-strand break processing reveals\\n     <i>\\n      in vivo\\n     </i>\\n     properties of the helicase-nuclease complex AddAB\\n    </a>\\n    <div class=\"gs_gray\">\\n     A Badrinarayanan, TBK Le, JH Spille, II Cisse, MT Laub\\n    </div>\\n    <div class=\"gs_gray\">\\n     PLoS Genetics 13 (5), e1006783\\n     <span class=\"gs_oph\">\\n      , 2017\\n     </span>\\n    </div>\\n   </td>\\n   <td class=\"gsc_a_c\">\\n    <a class=\"gsc_a_ac gs_ibl\" href=\"https://scholar.google.fr/scholar?oi=bibs&amp;hl=en&amp;oe=ASCII&amp;cites=16094908859766306007\">\\n     19\\n    </a>\\n   </td>\\n   <td class=\"gsc_a_y\">\\n    <span class=\"gsc_a_h gsc_a_hc gs_ibl\">\\n     2017\\n    </span>\\n   </td>\\n  </tr>\\n  <tr class=\"gsc_a_tr\">\\n   <td class=\"gsc_a_t\">\\n    <a class=\"gsc_a_at\" href=\"/citations?view_op=view_citation&amp;hl=en&amp;oe=ASCII&amp;user=SsuqMfwAAAAJ&amp;sortby=pubdate&amp;citation_for_view=SsuqMfwAAAAJ:ufrVoPGSRksC\">\\n     Cell-cycle dependent organization and dynamics of RNA Polymerase I in live human cells\\n    </a>\\n    <div class=\"gs_gray\">\\n     W Conway, WK Cho, N Jayanth, S Mullen, II Cissé\\n    </div>\\n    <div class=\"gs_gray\">\\n     bioRxiv, 133082\\n     <span class=\"gs_oph\">\\n      , 2017\\n     </span>\\n    </div>\\n   </td>\\n   <td class=\"gsc_a_c\">\\n    <a class=\"gsc_a_ac gs_ibl\" href=\"\">\\n    </a>\\n   </td>\\n   <td class=\"gsc_a_y\">\\n    <span class=\"gsc_a_h gsc_a_hc gs_ibl\">\\n     2017\\n    </span>\\n   </td>\\n  </tr>\\n  <tr class=\"gsc_a_tr\">\\n   <td class=\"gsc_a_t\">\\n    <a class=\"gsc_a_at\" href=\"/citations?view_op=view_citation&amp;hl=en&amp;oe=ASCII&amp;user=SsuqMfwAAAAJ&amp;sortby=pubdate&amp;citation_for_view=SsuqMfwAAAAJ:WF5omc3nYNoC\">\\n     Super-resolution imaging of fluorescently labeled, endogenous RNA Polymerase II in living cells with CRISPR/Cas9-mediated gene editing\\n    </a>\\n    <div class=\"gs_gray\">\\n     WK Cho, N Jayanth, S Mullen, TH Tan, YJ Jung, II Cissé\\n    </div>\\n    <div class=\"gs_gray\">\\n     Scientific reports 6 (1), 35949\\n     <span class=\"gs_oph\">\\n      , 2016\\n     </span>\\n    </div>\\n   </td>\\n   <td class=\"gsc_a_c\">\\n    <a class=\"gsc_a_ac gs_ibl\" href=\"https://scholar.google.fr/scholar?oi=bibs&amp;hl=en&amp;oe=ASCII&amp;cites=14474611807706969357\">\\n     65\\n    </a>\\n   </td>\\n   <td class=\"gsc_a_y\">\\n    <span class=\"gsc_a_h gsc_a_hc gs_ibl\">\\n     2016\\n    </span>\\n   </td>\\n  </tr>\\n  <tr class=\"gsc_a_tr\">\\n   <td class=\"gsc_a_t\">\\n    <a class=\"gsc_a_at\" href=\"/citations?view_op=view_citation&amp;hl=en&amp;oe=ASCII&amp;user=SsuqMfwAAAAJ&amp;sortby=pubdate&amp;citation_for_view=SsuqMfwAAAAJ:eQOLeE2rZwMC\">\\n     RNA Polymerase II cluster dynamics predict mRNA output in living cells\\n    </a>\\n    <div class=\"gs_gray\">\\n     WK Cho, N Jayanth, BP English, T Inoue, JO Andrews, W Conway, ...\\n    </div>\\n    <div class=\"gs_gray\">\\n     elife 5, e13617\\n     <span class=\"gs_oph\">\\n      , 2016\\n     </span>\\n    </div>\\n   </td>\\n   <td class=\"gsc_a_c\">\\n    <a class=\"gsc_a_ac gs_ibl\" href=\"https://scholar.google.fr/scholar?oi=bibs&amp;hl=en&amp;oe=ASCII&amp;cites=1991235204330302764\">\\n     274\\n    </a>\\n   </td>\\n   <td class=\"gsc_a_y\">\\n    <span class=\"gsc_a_h gsc_a_hc gs_ibl\">\\n     2016\\n    </span>\\n   </td>\\n  </tr>\\n  <tr class=\"gsc_a_tr\">\\n   <td class=\"gsc_a_t\">\\n    <a class=\"gsc_a_at\" href=\"/citations?view_op=view_citation&amp;hl=en&amp;oe=ASCII&amp;user=SsuqMfwAAAAJ&amp;sortby=pubdate&amp;citation_for_view=SsuqMfwAAAAJ:YsMSGLbcyi4C\">\\n     Single-molecule tracking in live cells reveals distinct target-search strategies of transcription factors in the nucleus\\n    </a>\\n    <div class=\"gs_gray\">\\n     I Izeddin, V Récamier, L Bosanac, II Cissé, L Boudarene, ...\\n    </div>\\n    <div class=\"gs_gray\">\\n     Elife 3, e02230\\n     <span class=\"gs_oph\">\\n      , 2014\\n     </span>\\n    </div>\\n   </td>\\n   <td class=\"gsc_a_c\">\\n    <a class=\"gsc_a_ac gs_ibl\" href=\"https://scholar.google.fr/scholar?oi=bibs&amp;hl=en&amp;oe=ASCII&amp;cites=18284760341062100975\">\\n     349\\n    </a>\\n   </td>\\n   <td class=\"gsc_a_y\">\\n    <span class=\"gsc_a_h gsc_a_hc gs_ibl\">\\n     2014\\n    </span>\\n   </td>\\n  </tr>\\n </tbody>\\n</table>\\n'"
      ]
     },
     "execution_count": 9,
     "metadata": {},
     "output_type": "execute_result"
    }
   ],
   "source": [
    "if str(scholar_page.status_code).startswith('2'):\n",
    "    soup = BeautifulSoup(scholar_page.text, 'html.parser')\n",
    "    publist = soup.find_all(id='gsc_a_t')[0]\n",
    "    gs_html = publist.prettify()\n",
    "\n",
    "gs_html"
   ]
  },
  {
   "cell_type": "code",
   "execution_count": 10,
   "metadata": {},
   "outputs": [
    {
     "data": {
      "text/plain": [
       "'1. Light-induced targeting enables proteomics on endogenous condensates\\n2. Direct observation of a condensate effect on super-enhancer controlled gene bursting\\n3. RNA-mediated feedback control of transcriptional condensates'"
      ]
     },
     "execution_count": 10,
     "metadata": {},
     "output_type": "execute_result"
    }
   ],
   "source": [
    "# Extract most relevant papers\n",
    "extr_task = f\"Provided below is the Google Scholar HTML Table of {pi_name}'s publication list sorted by most recent. From this, pick the 3 most relevant to the criteria: AI/ML, mathematical modelling, genomics. Your response should contain only the publication names listed from 1 to 3.\"\n",
    "extr_prompt = f'{extr_task}\\n<HTML TABLE STARTS>\\n{gs_html}\\n<HTML TABLE ENDS>'\n",
    "extr_run = agent.run(extr_prompt)\n",
    "top_papers = extr_run.content\n",
    "\n",
    "top_papers"
   ]
  },
  {
   "cell_type": "code",
   "execution_count": 13,
   "metadata": {},
   "outputs": [
    {
     "data": {
      "text/plain": [
       "\"I am deeply intrigued by the emerging field of liquid-liquid phase separation and its implications for understanding gene regulation and cellular function.  Your lab's pioneering work on visualizing and manipulating transcriptional condensates, particularly the innovative use of light-induced targeting for proteomics, is incredibly exciting. I am particularly fascinated by the direct observation of condensate effects on super-enhancers and the role of RNA-mediated feedback in regulating these dynamic structures. \\n\\n\\n\""
      ]
     },
     "execution_count": 13,
     "metadata": {},
     "output_type": "execute_result"
    }
   ],
   "source": [
    "# Personalize email\n",
    "para_agent = Agent(\n",
    "    model=Groq(id=\"gemma2-9b-it\"),\n",
    "    # add_chat_history_to_messages=True,\n",
    "    # num_history_responses=5,\n",
    "    tools=[],\n",
    "    markdown=True\n",
    ")\n",
    "\n",
    "example_para = \"I find the ways the brain captures, encodes, and processes information to be extremely fascinating, and your lab's work on elucidating the mechanisms of memory and learning has been a significant inspiration. I'm particularly interested in your projects combining genetics with neuroscience, and thoroughly enjoyed reading your paper on how neuronal ensemble dynamics in the hippocampus underlie episodic memory formation, as well as your work on the role of synaptic plasticity in the retrosplenial cortex in contextual learning, especially its insights into activity-dependent transcriptional and epigenetic programs critical for memory retrieval and consolidation.\"\n",
    "personalize_task = \"Given the chosen papers (given below), talk about my interest in them in a short paragraph that mimics the example paragraph given below. The paragraph should talk about my interest in the papers, not plainly highlighting what the paper is talking about. The paragraph is meant to be sent to the PI/Professor whose lab has produced this research. Respond with only the paragraph and nothing else.\"\n",
    "personalize_prompt = f'{personalize_task}\\n<EXAMPLE PARAGRAPH STARTS>\\n{example_para}\\n<EXAMPLE PARAGRAPH ENDS>\\nRELEVANT PAPERS: {top_papers}'\n",
    "personalize_run = para_agent.run(personalize_prompt)\n",
    "\n",
    "personalized_para = personalize_run.content\n",
    "personalized_para"
   ]
  },
  {
   "cell_type": "code",
   "execution_count": 2,
   "metadata": {},
   "outputs": [
    {
     "name": "stdout",
     "output_type": "stream",
     "text": [
      "0    Ibrahim Cisse\n",
      "1      Sean Murray\n",
      "Name: pi_name, dtype: object\n"
     ]
    }
   ],
   "source": [
    "import pandas as pd\n",
    "pi_list = pd.read_csv('sample_list.csv')\n",
    "\n",
    "print(pi_list['pi_name'])"
   ]
  }
 ],
 "metadata": {
  "kernelspec": {
   "display_name": "agents",
   "language": "python",
   "name": "python3"
  },
  "language_info": {
   "codemirror_mode": {
    "name": "ipython",
    "version": 3
   },
   "file_extension": ".py",
   "mimetype": "text/x-python",
   "name": "python",
   "nbconvert_exporter": "python",
   "pygments_lexer": "ipython3",
   "version": "3.13.1"
  }
 },
 "nbformat": 4,
 "nbformat_minor": 2
}
